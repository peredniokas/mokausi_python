{
 "cells": [
  {
   "cell_type": "code",
   "execution_count": 1,
   "metadata": {},
   "outputs": [],
   "source": [
    "from sqlalchemy.orm import sessionmaker\n",
    "from models import engine, Tevas, Vaikas\n",
    "\n",
    "session = sessionmaker(engine)()"
   ]
  },
  {
   "cell_type": "code",
   "execution_count": 2,
   "metadata": {},
   "outputs": [],
   "source": [
    "naujas_tevas = Tevas(vardas=\"Kietas\", pavarde=\"Vyras\")\n",
    "naujas_vaikas = Vaikas(\n",
    "    vardas=\"Sustras\", \n",
    "    pavarde=\"Vyras\", \n",
    "    tevas=naujas_tevas,\n",
    "    mokymo_istaiga=\"CodeAcademy\",\n",
    ")\n",
    "session.add(naujas_tevas)\n",
    "session.add(naujas_vaikas)\n",
    "session.commit()"
   ]
  },
  {
   "cell_type": "code",
   "execution_count": 2,
   "metadata": {},
   "outputs": [
    {
     "name": "stdout",
     "output_type": "stream",
     "text": [
      "[(1, Sustras, Vyras, (1, Kietas, Vyras)),\n",
      " (2, Gudrus, Vaikis, (2, Rimtesnis, Vaikis)),\n",
      " (3, Smagi, Vaikyte, (2, Rimtesnis, Vaikis))]\n"
     ]
    }
   ],
   "source": [
    "from pprint import pprint\n",
    "vaikai = session.query(Vaikas).all()\n",
    "pprint(vaikai)"
   ]
  },
  {
   "cell_type": "code",
   "execution_count": null,
   "metadata": {},
   "outputs": [],
   "source": [
    "vaikai[1].tevas = session.query(Tevas).get(1)\n",
    "# session.commit()\n",
    "vaikai"
   ]
  },
  {
   "cell_type": "code",
   "execution_count": 3,
   "metadata": {},
   "outputs": [
    {
     "data": {
      "text/plain": [
       "(1, Kietas, Vyras)"
      ]
     },
     "execution_count": 3,
     "metadata": {},
     "output_type": "execute_result"
    }
   ],
   "source": [
    "tevas = session.query(Tevas).get(1)\n",
    "tevas"
   ]
  },
  {
   "cell_type": "code",
   "execution_count": 4,
   "metadata": {},
   "outputs": [],
   "source": [
    "sunelis = Vaikas(vardas=\"Gudrus\", pavarde=\"Vaikis\")\n",
    "dukrele = Vaikas(vardas=\"Smagi\", pavarde=\"Vaikyte\")\n",
    "tevas = Tevas(vardas=\"Rimtas\", pavarde=\"Vaikis\")\n",
    "tevas.vaikai.append(sunelis)\n",
    "tevas.vaikai.append(dukrele)\n",
    "session.add(tevas)\n",
    "session.commit()"
   ]
  },
  {
   "cell_type": "code",
   "execution_count": 11,
   "metadata": {},
   "outputs": [
    {
     "data": {
      "text/plain": [
       "[(2, Gudrus, Vaikis, (2, Rimtas, Vaikis)),\n",
       " (3, Smagi, Vaikyte, (2, Rimtas, Vaikis))]"
      ]
     },
     "execution_count": 11,
     "metadata": {},
     "output_type": "execute_result"
    }
   ],
   "source": [
    "tevas = session.query(Tevas).get(2)\n",
    "tevas.vaikai"
   ]
  },
  {
   "cell_type": "code",
   "execution_count": 20,
   "metadata": {},
   "outputs": [
    {
     "name": "stdout",
     "output_type": "stream",
     "text": [
      "tevas:  (1, Kietas, Vyras) \n",
      "vaikai:\n",
      "[(1, Sustras, Vyras, (1, Kietas, Vyras))]\n",
      "tevas:  (2, Rimtas, Vaikis) \n",
      "vaikai:\n",
      "[(2, Gudrus, Vaikis, (2, Rimtas, Vaikis)),\n",
      " (3, Gudri, Vaikyte, (2, Rimtas, Vaikis))]\n"
     ]
    }
   ],
   "source": [
    "tevai = session.query(Tevas).all()\n",
    "for tevas in tevai:\n",
    "    print('tevas: ', tevas, \"\\nvaikai:\")\n",
    "    pprint(tevas.vaikai)"
   ]
  },
  {
   "cell_type": "code",
   "execution_count": 13,
   "metadata": {},
   "outputs": [
    {
     "data": {
      "text/plain": [
       "'Gudrus'"
      ]
     },
     "execution_count": 13,
     "metadata": {},
     "output_type": "execute_result"
    }
   ],
   "source": [
    "tevas.vaikai[0].vardas "
   ]
  },
  {
   "cell_type": "code",
   "execution_count": 19,
   "metadata": {},
   "outputs": [
    {
     "data": {
      "text/plain": [
       "[(2, Gudrus, Vaikis, (2, Rimtas, Vaikis)),\n",
       " (3, Gudri, Vaikyte, (2, Rimtas, Vaikis))]"
      ]
     },
     "execution_count": 19,
     "metadata": {},
     "output_type": "execute_result"
    }
   ],
   "source": [
    "tevas.vaikai[1].vardas = 'Gudri'\n",
    "tevas.vaikai"
   ]
  },
  {
   "cell_type": "code",
   "execution_count": 21,
   "metadata": {},
   "outputs": [
    {
     "data": {
      "text/plain": [
       "(3, Gudri, Vaikyte, None)"
      ]
     },
     "execution_count": 21,
     "metadata": {},
     "output_type": "execute_result"
    }
   ],
   "source": [
    "pamestinukas = tevas.vaikai.pop()\n",
    "pamestinukas"
   ]
  },
  {
   "cell_type": "code",
   "execution_count": 4,
   "metadata": {},
   "outputs": [
    {
     "data": {
      "text/plain": [
       "[(1, Sustras, Vyras, (1, Kietas, Vyras)),\n",
       " (2, Gudrus, Vaikis, (2, Rimtesnis, Vaikis)),\n",
       " (3, Smagi, Vaikyte, (2, Rimtesnis, Vaikis))]"
      ]
     },
     "execution_count": 4,
     "metadata": {},
     "output_type": "execute_result"
    }
   ],
   "source": [
    "vaikai = session.query(Vaikas).all()\n",
    "vaikai"
   ]
  },
  {
   "cell_type": "code",
   "execution_count": 25,
   "metadata": {},
   "outputs": [
    {
     "data": {
      "text/plain": [
       "(2, Rimtas, Vaikis)"
      ]
     },
     "execution_count": 25,
     "metadata": {},
     "output_type": "execute_result"
    }
   ],
   "source": [
    "tevas.vaikai.remove(vaikai[1])\n",
    "tevas"
   ]
  },
  {
   "cell_type": "code",
   "execution_count": 28,
   "metadata": {},
   "outputs": [],
   "source": [
    "tevas.vaikai.append(vaikai[1])\n",
    "tevas.vaikai.append(vaikai[2])"
   ]
  },
  {
   "cell_type": "code",
   "execution_count": 5,
   "metadata": {},
   "outputs": [
    {
     "name": "stdout",
     "output_type": "stream",
     "text": [
      "Pretty printing has been turned OFF\n"
     ]
    }
   ],
   "source": [
    "pprint(tevas.vaikai)"
   ]
  },
  {
   "cell_type": "code",
   "execution_count": 2,
   "metadata": {},
   "outputs": [],
   "source": [
    "from crud import update_object, delete_object"
   ]
  },
  {
   "cell_type": "code",
   "execution_count": 11,
   "metadata": {},
   "outputs": [
    {
     "data": {
      "text/plain": [
       "(2, Rimtesnis, Vaikis)"
      ]
     },
     "execution_count": 11,
     "metadata": {},
     "output_type": "execute_result"
    }
   ],
   "source": [
    "rimtesnis = update_object(Tevas, 2, vardas=\"Rimtesnis\")\n",
    "rimtesnis"
   ]
  },
  {
   "cell_type": "code",
   "execution_count": 17,
   "metadata": {},
   "outputs": [
    {
     "data": {
      "text/plain": [
       "[(2, Rimtesnis, Vaikis)]"
      ]
     },
     "execution_count": 17,
     "metadata": {},
     "output_type": "execute_result"
    }
   ],
   "source": [
    "tevelis = session.query(Tevas).filter(Tevas.vardas.ilike(\"R%\")).all()\n",
    "tevelis"
   ]
  },
  {
   "cell_type": "code",
   "execution_count": 9,
   "metadata": {},
   "outputs": [
    {
     "data": {
      "text/plain": [
       "[(1, Sustras, Vyras, (1, Kietas, Vyras))]"
      ]
     },
     "execution_count": 9,
     "metadata": {},
     "output_type": "execute_result"
    }
   ],
   "source": [
    "tevas.vaikai[0].tevas.vaikai"
   ]
  }
 ],
 "metadata": {
  "kernelspec": {
   "display_name": "Python 3.8.10 ('venv': venv)",
   "language": "python",
   "name": "python3"
  },
  "language_info": {
   "codemirror_mode": {
    "name": "ipython",
    "version": 3
   },
   "file_extension": ".py",
   "mimetype": "text/x-python",
   "name": "python",
   "nbconvert_exporter": "python",
   "pygments_lexer": "ipython3",
   "version": "3.8.10"
  },
  "orig_nbformat": 4,
  "vscode": {
   "interpreter": {
    "hash": "30d5a12e8bd8c0f793437b8c8a16499d471ddf3536a4edc80b5e177206615b38"
   }
  }
 },
 "nbformat": 4,
 "nbformat_minor": 2
}
