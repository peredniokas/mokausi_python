{
 "cells": [
  {
   "cell_type": "code",
   "execution_count": 1,
   "metadata": {},
   "outputs": [],
   "source": [
    "from sqlalchemy.orm import sessionmaker\n",
    "from models_m2m import engine, Tevas, Vaikas\n",
    "from pprint import pprint\n",
    "\n",
    "session = sessionmaker(engine)()"
   ]
  },
  {
   "cell_type": "code",
   "execution_count": 3,
   "metadata": {},
   "outputs": [],
   "source": [
    "tevas = Tevas(vardas=\"Kestutis\", pavarde=\"Januskevicius\")\n",
    "mama = Tevas(vardas=\"Nicoletta\", pavarde=\"Januskeviciene\")\n",
    "emilija = Vaikas(vardas=\"Emilija\", pavarde=\"Januskeviciute\")\n",
    "maja = Vaikas(vardas=\"Maja\", pavarde=\"Januskeviciute\")\n",
    "marco = Vaikas(vardas=\"Marco\", pavarde=\"Januskevicius\")"
   ]
  },
  {
   "cell_type": "code",
   "execution_count": null,
   "metadata": {},
   "outputs": [],
   "source": [
    "tevas.vaikai.append(emilija)\n",
    "mama.vaikai.append(emilija)\n",
    "tevas.vaikai.append(marco)\n",
    "\n",
    "session.add(tevas)\n",
    "session.add(mama)\n",
    "session.commit()"
   ]
  },
  {
   "cell_type": "code",
   "execution_count": 7,
   "metadata": {},
   "outputs": [],
   "source": [
    "session.add(maja)\n",
    "session.commit()"
   ]
  },
  {
   "cell_type": "code",
   "execution_count": 10,
   "metadata": {},
   "outputs": [
    {
     "name": "stdout",
     "output_type": "stream",
     "text": [
      "[(1, Kestutis, Januskevicius), (2, Nicoletta, Januskeviciene)]\n",
      "[(1, Emilija, Januskeviciute),\n",
      " (2, Marco, Januskevicius),\n",
      " (3, Maja, Januskeviciute)]\n"
     ]
    }
   ],
   "source": [
    "tevai = session.query(Tevas).all()\n",
    "pprint(tevai)\n",
    "vaikai = session.query(Vaikas).all()\n",
    "pprint(vaikai)"
   ]
  },
  {
   "cell_type": "code",
   "execution_count": 19,
   "metadata": {},
   "outputs": [
    {
     "name": "stdout",
     "output_type": "stream",
     "text": [
      "(1, Kestutis, Januskevicius)\n",
      "- (1, Emilija, Januskeviciute)\n",
      "- (2, Marco, Januskevicius)\n",
      "- (3, Maja, Januskeviciute)\n",
      "(2, Nicoletta, Januskeviciene)\n",
      "- (1, Emilija, Januskeviciute)\n",
      "- (3, Maja, Januskeviciute)\n"
     ]
    }
   ],
   "source": [
    "for tevas in tevai:\n",
    "    print(tevas)\n",
    "    # print(type(tevas.vaikai))\n",
    "    for vaikas in tevas.vaikai:\n",
    "        print(\"-\", vaikas)"
   ]
  },
  {
   "cell_type": "code",
   "execution_count": 18,
   "metadata": {},
   "outputs": [
    {
     "name": "stdout",
     "output_type": "stream",
     "text": [
      "(1, Emilija, Januskeviciute)\n",
      "- (1, Kestutis, Januskevicius)\n",
      "- (2, Nicoletta, Januskeviciene)\n",
      "(2, Marco, Januskevicius)\n",
      "- (1, Kestutis, Januskevicius)\n",
      "(3, Maja, Januskeviciute)\n",
      "- (1, Kestutis, Januskevicius)\n",
      "- (2, Nicoletta, Januskeviciene)\n"
     ]
    }
   ],
   "source": [
    "for vaikas in vaikai:\n",
    "    print(vaikas)\n",
    "    for tevas in vaikas.tevai:\n",
    "        print(\"-\", tevas)"
   ]
  },
  {
   "cell_type": "code",
   "execution_count": 6,
   "metadata": {},
   "outputs": [],
   "source": [
    "tevas = session.query(Tevas).get(1)\n",
    "mama = session.query(Tevas).get(2)\n",
    "emilija = session.query(Vaikas).get(1)\n",
    "marco = session.query(Vaikas).get(2)\n",
    "maja = session.query(Vaikas).get(3)"
   ]
  },
  {
   "cell_type": "code",
   "execution_count": 7,
   "metadata": {},
   "outputs": [],
   "source": [
    "maja.tevai.append(tevas)\n",
    "maja.tevai.append(mama)\n",
    "marco.tevai.append(mama)\n",
    "session.commit()"
   ]
  },
  {
   "cell_type": "code",
   "execution_count": 16,
   "metadata": {},
   "outputs": [],
   "source": [
    "mama.vaikai.remove(marco)"
   ]
  },
  {
   "cell_type": "code",
   "execution_count": 17,
   "metadata": {},
   "outputs": [],
   "source": [
    "session.commit()"
   ]
  },
  {
   "cell_type": "code",
   "execution_count": 24,
   "metadata": {},
   "outputs": [
    {
     "data": {
      "text/plain": [
       "[(1, Kestutis, Januskevicius), (2, Nicoletta, Januskeviciene)]"
      ]
     },
     "execution_count": 24,
     "metadata": {},
     "output_type": "execute_result"
    }
   ],
   "source": [
    "marco.tevai[0].vaikai[0].tevai"
   ]
  }
 ],
 "metadata": {
  "kernelspec": {
   "display_name": "Python 3.8.10 ('venv': venv)",
   "language": "python",
   "name": "python3"
  },
  "language_info": {
   "codemirror_mode": {
    "name": "ipython",
    "version": 3
   },
   "file_extension": ".py",
   "mimetype": "text/x-python",
   "name": "python",
   "nbconvert_exporter": "python",
   "pygments_lexer": "ipython3",
   "version": "3.8.10"
  },
  "orig_nbformat": 4,
  "vscode": {
   "interpreter": {
    "hash": "30d5a12e8bd8c0f793437b8c8a16499d471ddf3536a4edc80b5e177206615b38"
   }
  }
 },
 "nbformat": 4,
 "nbformat_minor": 2
}
